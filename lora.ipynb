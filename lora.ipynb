{
 "cells": [
  {
   "cell_type": "code",
   "execution_count": 1,
   "metadata": {},
   "outputs": [],
   "source": [
    "import torch\n",
    "import torchvision.datasets as datasets\n",
    "import torchvision.transforms as transforms\n",
    "import torch.nn as nn\n",
    "import matplotlib.pyplot as plt\n",
    "from tqdm import tqdm"
   ]
  },
  {
   "cell_type": "code",
   "execution_count": 2,
   "metadata": {},
   "outputs": [],
   "source": [
    "# make th torch deterministic\n",
    "_ = torch.manual_seed(0)"
   ]
  },
  {
   "cell_type": "code",
   "execution_count": 3,
   "metadata": {},
   "outputs": [],
   "source": [
    "import torch.utils\n",
    "\n",
    "\n",
    "transform = transforms.Compose([transforms.ToTensor(), transforms.Normalize((0.1307, ), (0.3081))])\n",
    "\n",
    "# Load mnist dataset\n",
    "mnist_train = datasets.MNIST(root=\"./data\", train=True, download=TimeoutError, transform=transform)\n",
    "train_loader = torch.utils.data.DataLoader(mnist_train, batch_size=10, shuffle=True)\n",
    "\n",
    "mnist_test= datasets.MNIST(root=\"./data\", download=True, train=False, transform=transform)\n",
    "test_loader = torch.utils.data.DataLoader(mnist_test, batch_size=10, shuffle=True)\n",
    "\n",
    "device = torch.device(\"cuda\" if torch.cuda.is_available() else \"cpu\")"
   ]
  },
  {
   "cell_type": "code",
   "execution_count": 4,
   "metadata": {},
   "outputs": [],
   "source": [
    "# Create an overly expensive NN to classify MNMIST dataset\n",
    "class RichBoyNet(nn.Module):\n",
    "    def __init__(self, hidden_state_size1=1000, hidden_state_size2=2000):\n",
    "        super(RichBoyNet, self).__init__()\n",
    "        self.linear1 = nn.Linear(28*28, hidden_state_size1)\n",
    "        self.linear2 = nn.Linear(hidden_state_size1, hidden_state_size2)\n",
    "        self.linear3 = nn.Linear(hidden_state_size2, 10)\n",
    "        self.relu = nn.ReLU()\n",
    "\n",
    "    def forward(self, x):\n",
    "        x = x.view(-1, 28*28)\n",
    "        x = self.relu(self.linear1(x))\n",
    "        x = self.relu(self.linear2(x))\n",
    "        x = self.linear3(x)\n",
    "        return x\n",
    "    \n",
    "\n",
    "net = RichBoyNet().to(device)\n"
   ]
  },
  {
   "cell_type": "code",
   "execution_count": 5,
   "metadata": {},
   "outputs": [
    {
     "name": "stderr",
     "output_type": "stream",
     "text": [
      "Epoch 1: 100%|██████████| 6000/6000 [04:57<00:00, 20.15it/s, loss=0.238]\n"
     ]
    }
   ],
   "source": [
    "# train the newtwork for only 1 epoch to simulate a complete general pre-training on the data\n",
    "\n",
    "def train(train_loader, net, epochs=5, total_iterations_limit=None):\n",
    "    cross_el = nn.CrossEntropyLoss()\n",
    "    optimizer = torch.optim.Adam(net.parameters(), lr=0.001)\n",
    "\n",
    "    total_iterations = 0\n",
    "    for epoch in range(epochs):\n",
    "        net.train()\n",
    "        loss_sum = 0\n",
    "        num_iterations = 0\n",
    "        data_iterator = tqdm(train_loader, desc=f\"Epoch {epoch+1}\")\n",
    "        if total_iterations_limit is not None:\n",
    "            data_iterator.total = total_iterations_limit\n",
    "        for data in data_iterator:\n",
    "            num_iterations += 1\n",
    "            total_iterations += 1\n",
    "\n",
    "            x, y = data\n",
    "            x = x.to(device)\n",
    "            y = y.to(device)\n",
    "\n",
    "            # forward pass\n",
    "            optimizer.zero_grad()\n",
    "            output = net(x.view(-1, 28*28))\n",
    "            loss = cross_el(output, y)\n",
    "            loss_sum += loss.item()\n",
    "            avg_loss = loss_sum/num_iterations\n",
    "            data_iterator.set_postfix(loss=avg_loss)\n",
    "\n",
    "            # backward pass\n",
    "            loss.backward()\n",
    "            optimizer.step()\n",
    "            \n",
    "\n",
    "            if total_iterations_limit is not None and total_iterations >= total_iterations_limit:\n",
    "                return\n",
    "\n",
    "\n",
    "train(train_loader, net, epochs=1)"
   ]
  },
  {
   "cell_type": "code",
   "execution_count": 6,
   "metadata": {},
   "outputs": [],
   "source": [
    "# Keep the original weights (cloning them), so later we can prove that finetuning \n",
    "# with LoRA doesn't alter the oginal weights\n",
    "original_weights = {}\n",
    "for name, param in net.named_parameters():\n",
    "    original_weights[name] = param.clone().detach()\n"
   ]
  },
  {
   "cell_type": "markdown",
   "metadata": {},
   "source": [
    "- The performance of the pretrained network"
   ]
  },
  {
   "cell_type": "code",
   "execution_count": 7,
   "metadata": {},
   "outputs": [
    {
     "name": "stderr",
     "output_type": "stream",
     "text": [
      "Testing: 100%|██████████| 1000/1000 [00:04<00:00, 219.14it/s]"
     ]
    },
    {
     "name": "stdout",
     "output_type": "stream",
     "text": [
      "Accuracy: 0.961\n",
      "Wrong counts for the digit 0: 10\n",
      "Wrong counts for the digit 1: 18\n",
      "Wrong counts for the digit 2: 41\n",
      "Wrong counts for the digit 3: 83\n",
      "Wrong counts for the digit 4: 28\n",
      "Wrong counts for the digit 5: 23\n",
      "Wrong counts for the digit 6: 60\n",
      "Wrong counts for the digit 7: 34\n",
      "Wrong counts for the digit 8: 17\n",
      "Wrong counts for the digit 9: 79\n"
     ]
    },
    {
     "name": "stderr",
     "output_type": "stream",
     "text": [
      "\n"
     ]
    }
   ],
   "source": [
    "def test():\n",
    "    correct = 0\n",
    "    total = 0\n",
    "    wrong_counts = [0 for i in range(10)]\n",
    "\n",
    "    with torch.no_grad():\n",
    "        for data in tqdm(test_loader, desc=\"Testing\"):\n",
    "            x, y = data\n",
    "            x = x.to(device)\n",
    "            y = y.to(device)\n",
    "            output = net(x.view(-1, 28*28))\n",
    "            for idx, i in enumerate(output):\n",
    "                if torch.argmax(i) == y[idx]:\n",
    "                    correct += 1\n",
    "                else:\n",
    "                    wrong_counts[y[idx]] += 1\n",
    "                total += 1\n",
    "    print(f\"Accuracy: {round(correct/total, 3)}\")\n",
    "    for i in range(len(wrong_counts)):\n",
    "        print(f\"Wrong counts for the digit {i}: {wrong_counts[i]}\")\n",
    "\n",
    "test()"
   ]
  },
  {
   "cell_type": "markdown",
   "metadata": {},
   "source": [
    "- Visualize how many parameters are in the Original network, before introducing the LoRA matrices"
   ]
  },
  {
   "cell_type": "code",
   "execution_count": 8,
   "metadata": {},
   "outputs": [
    {
     "name": "stdout",
     "output_type": "stream",
     "text": [
      "Layer 1: W torch.Size([1000, 784]) + B: torch.Size([1000])\n",
      "Layer 2: W torch.Size([2000, 1000]) + B: torch.Size([2000])\n",
      "Layer 3: W torch.Size([10, 2000]) + B: torch.Size([10])\n",
      "Toal number of parameters: 2,807,010\n"
     ]
    }
   ],
   "source": [
    "# print the size of the wrights metrices of the network\n",
    "# save the count of the total numer of parameters\n",
    "total_parameters_original = 0\n",
    "for index, layer in enumerate([net.linear1, net.linear2, net.linear3]):\n",
    "    total_parameters_original += layer.weight.nelement() + layer.bias.nelement()\n",
    "    print(f\"Layer {index +1}: W {layer.weight.shape} + B: {layer.bias.shape}\")\n",
    "\n",
    "print(f\"Toal number of parameters: {total_parameters_original:,}\")"
   ]
  },
  {
   "cell_type": "markdown",
   "metadata": {},
   "source": [
    "##### Define th LoRA parametrization"
   ]
  },
  {
   "cell_type": "code",
   "execution_count": 9,
   "metadata": {},
   "outputs": [],
   "source": [
    "class LoRAParametrization(nn.Module):\n",
    "    def __init__(self, features_in, features_out, rank=1, alpha=1, device='cpu'):\n",
    "        super().__init__()\n",
    "        # section 4.1 of the paper\n",
    "        # Use random Gaussian initialization for A and Zero for B, so changeW = BA is zero at the beginning\n",
    "        self.lora_A = nn.Parameter(torch.zeros((rank, features_out)).to(device))\n",
    "        self.lora_B = nn.Parameter(torch.zeros((features_in, rank)).to(device))\n",
    "        nn.init.normal_(self.lora_A, mean=0, std=1)\n",
    "\n",
    "        # We then scale changeW by alpha/rank, wher alpha is a constant in r. \n",
    "        # when optimizing with Adam, tuning alpha is roughly the same as tuning the learning rate if we scale\n",
    "        # the initlization appropriately. \n",
    "        # As a result, we simply set alpha to the first r we try and do not tune it\n",
    "        # THis scaling helps to reduce the need to retune hyperparameters when we try r. \n",
    "        self.scale = alpha/rank\n",
    "        self.enabled = True\n",
    "\n",
    "    def forward(self, original_weights):\n",
    "        if self.enabled:\n",
    "            # Return W + (B*A)*scale\n",
    "            return original_weights + torch.matmul(self.lora_B, self.lora_A).view(original_weights.shape) * self.scale\n",
    "        else:\n",
    "            return original_weights\n"
   ]
  },
  {
   "cell_type": "markdown",
   "metadata": {},
   "source": [
    "- Add the parametrization to out network"
   ]
  },
  {
   "cell_type": "code",
   "execution_count": 10,
   "metadata": {},
   "outputs": [],
   "source": [
    "import torch.nn.utils.parametrize as parametrize\n",
    "\n",
    "def linear_layer_parametrization(layer, device, rank=1, lora_alpha=1):\n",
    "    # only add the parametrization to the weight matrix, ignore the bias\n",
    "    features_in, features_out = layer.weight.shape\n",
    "    return LoRAParametrization(features_in=features_in, features_out=features_out, rank=rank, alpha=lora_alpha, device=device)\n",
    "\n",
    "parametrize.register_parametrization(\n",
    "    net.linear1, \"weight\", linear_layer_parametrization(net.linear1, device)\n",
    ")\n",
    "parametrize.register_parametrization(\n",
    "    net.linear2, \"weight\", linear_layer_parametrization(net.linear2, device)\n",
    ")\n",
    "parametrize.register_parametrization(\n",
    "    net.linear3, \"weight\", linear_layer_parametrization(net.linear3, device)\n",
    ")\n",
    "\n",
    "def enable_disable_lora(enabled=True):\n",
    "    for layer in [net.linear1, net.linear2, net.linear3]:\n",
    "        layer.parametrizations[\"weight\"][0].enabled = enabled"
   ]
  },
  {
   "cell_type": "markdown",
   "metadata": {},
   "source": [
    "- Number of parameters added by LoRA"
   ]
  },
  {
   "cell_type": "code",
   "execution_count": 11,
   "metadata": {},
   "outputs": [
    {
     "name": "stdout",
     "output_type": "stream",
     "text": [
      "Layer 1 W: torch.Size([1000, 784]) + B: torch.Size([1000]) + Lora_A: torch.Size([1, 784]) + Lora_B: torch.Size([1000, 1])\n",
      "Layer 2 W: torch.Size([2000, 1000]) + B: torch.Size([2000]) + Lora_A: torch.Size([1, 1000]) + Lora_B: torch.Size([2000, 1])\n",
      "Layer 3 W: torch.Size([10, 2000]) + B: torch.Size([10]) + Lora_A: torch.Size([1, 2000]) + Lora_B: torch.Size([10, 1])\n",
      "Total number of parameters (Original): 2,807,010\n",
      "Total parameters (original + lora): 2,813,804\n",
      "Parameters introduced by Lora: 6,794\n",
      "Pramteres increment: 0.242\n"
     ]
    }
   ],
   "source": [
    "total_parameters_lora = 0\n",
    "total_parameters_non_lora = 0\n",
    "for index, layer in enumerate([net.linear1, net.linear2, net.linear3]):\n",
    "    total_parameters_lora += layer.parametrizations['weight'][0].lora_A.nelement() + layer.parametrizations['weight'][0].lora_B.nelement()\n",
    "    total_parameters_non_lora += layer.weight.nelement() + layer.bias.nelement()\n",
    "    print(f\"Layer {index+1} W: {layer.weight.shape} + B: {layer.bias.shape} + Lora_A: {layer.parametrizations['weight'][0].lora_A.shape} + Lora_B: {layer.parametrizations['weight'][0].lora_B.shape}\")\n",
    "\n",
    "\n",
    "# The non-LoRA parameters count should match the original network\n",
    "assert total_parameters_non_lora == total_parameters_original\n",
    "print(f\"Total number of parameters (Original): {total_parameters_non_lora:,}\")\n",
    "print(f\"Total parameters (original + lora): {total_parameters_lora + total_parameters_original:,}\")\n",
    "print(f\"Parameters introduced by Lora: {total_parameters_lora:,}\")\n",
    "parameters_increment = (total_parameters_lora / total_parameters_non_lora) * 100\n",
    "print(f\"Pramteres increment: {parameters_increment:.3f}\")"
   ]
  },
  {
   "cell_type": "markdown",
   "metadata": {},
   "source": [
    "#### Freeze all the paramters of the original network and only FInetune the ones introduced by LoRA"
   ]
  },
  {
   "cell_type": "code",
   "execution_count": 12,
   "metadata": {},
   "outputs": [
    {
     "name": "stdout",
     "output_type": "stream",
     "text": [
      "Freezing non-LoRA parameter: linear1.bias\n",
      "Freezing non-LoRA parameter: linear1.parametrizations.weight.original\n",
      "Freezing non-LoRA parameter: linear2.bias\n",
      "Freezing non-LoRA parameter: linear2.parametrizations.weight.original\n",
      "Freezing non-LoRA parameter: linear3.bias\n",
      "Freezing non-LoRA parameter: linear3.parametrizations.weight.original\n"
     ]
    }
   ],
   "source": [
    "# Freeze the non-lora paramters\n",
    "\n",
    "for name, param in net.named_parameters():\n",
    "    if 'lora' not in name: \n",
    "        print(f\"Freezing non-LoRA parameter: {name}\")\n",
    "        param.requires_grad = False\n",
    "\n",
    "# Load the Mnist dataset again, by keeping only digit 9\n",
    "mnist_trainset = datasets.MNIST(root=\"./data\", train=True, download=True, transform=transform)\n",
    "exclude_indeces = mnist_trainset.targets == 9\n",
    "mnist_trainset.data = mnist_trainset.data[exclude_indeces]\n",
    "mnist_trainset.targets = mnist_trainset.targets[exclude_indeces]\n",
    "\n",
    "# dataloader\n",
    "train_loader = torch.utils.data.DataLoader(mnist_trainset, batch_size=10, shuffle=True)"
   ]
  },
  {
   "cell_type": "code",
   "execution_count": 13,
   "metadata": {},
   "outputs": [
    {
     "name": "stderr",
     "output_type": "stream",
     "text": [
      "Epoch 1:  99%|█████████▉| 99/100 [00:02<00:00, 42.72it/s, loss=0.0749]\n"
     ]
    }
   ],
   "source": [
    "# train\n",
    "train(train_loader, net, epochs=1, total_iterations_limit=100)"
   ]
  },
  {
   "cell_type": "markdown",
   "metadata": {},
   "source": [
    "#### Verify that fine-tuning didn't alter the original weights, but only the ones introduced by LoRA"
   ]
  },
  {
   "cell_type": "code",
   "execution_count": 14,
   "metadata": {},
   "outputs": [],
   "source": [
    "# Check that frozen parameters are still unchanged\n",
    "assert torch.all(net.linear1.parametrizations['weight'].original == original_weights['linear1.weight']), \"Assertion on first line\"\n",
    "assert torch.all(net.linear2.parametrizations.weight.original == original_weights['linear2.weight'])\n",
    "assert torch.all(net.linear3.parametrizations.weight.original == original_weights['linear3.weight'])\n",
    "\n",
    "enable_disable_lora(enabled=True)\n",
    "\n",
    "'''\n",
    "The New linear1.weight is obtained by the forward function of our LoRA parametrizations, \n",
    "The original weights have been moved to net.linear1.parametrizations.weight.original\n",
    "'''\n",
    "assert torch.equal(\n",
    "    net.linear1.weight, net.linear1.parametrizations.weight.original +\n",
    "    (net.linear1.parametrizations.weight[0].lora_B @ net.linear1.parametrizations.weight[0].lora_A) * \n",
    "    net.linear1.parametrizations.weight[0].scale), \"Is not equal\"\n",
    "enable_disable_lora(enabled=False)\n",
    "# if we disable LoRA, the linear1.weight is hte original one\n",
    "assert torch.equal(net.linear1.weight, original_weights['linear1.weight'])               "
   ]
  },
  {
   "cell_type": "code",
   "execution_count": 15,
   "metadata": {},
   "outputs": [
    {
     "name": "stdout",
     "output_type": "stream",
     "text": [
      "Shapes:\n",
      "Stored original weights shape: torch.Size([1000, 784])\n",
      "Current original weights shape: torch.Size([1000, 784])\n",
      "\n",
      "First few values:\n",
      "Stored original:\n",
      "tensor([[0.0300, 0.0495, 0.0009, 0.0040, 0.0166],\n",
      "        [0.0242, 0.0290, 0.0336, 0.0092, 0.0459],\n",
      "        [0.0357, 0.0707, 0.0226, 0.0355, 0.0826],\n",
      "        [0.0587, 0.0097, 0.0444, 0.0334, 0.0658],\n",
      "        [0.0460, 0.0355, 0.0283, 0.0452, 0.0198]])\n",
      "\n",
      "Current original:\n",
      "tensor([[0.0300, 0.0495, 0.0009, 0.0040, 0.0166],\n",
      "        [0.0242, 0.0290, 0.0336, 0.0092, 0.0459],\n",
      "        [0.0357, 0.0707, 0.0226, 0.0355, 0.0826],\n",
      "        [0.0587, 0.0097, 0.0444, 0.0334, 0.0658],\n",
      "        [0.0460, 0.0355, 0.0283, 0.0452, 0.0198]])\n",
      "\n",
      "Max absolute difference:\n",
      "tensor(0.)\n"
     ]
    }
   ],
   "source": [
    "# Add this debugging code before the assertion\n",
    "print(\"Shapes:\")\n",
    "print(f\"Stored original weights shape: {original_weights['linear1.weight'].shape}\")\n",
    "print(f\"Current original weights shape: {net.linear1.parametrizations['weight'].original.shape}\")\n",
    "\n",
    "print(\"\\nFirst few values:\")\n",
    "print(\"Stored original:\")\n",
    "print(original_weights['linear1.weight'][:5, :5])\n",
    "print(\"\\nCurrent original:\")\n",
    "print(net.linear1.parametrizations['weight'].original[:5, :5])\n",
    "\n",
    "print(\"\\nMax absolute difference:\")\n",
    "print(torch.max(torch.abs(net.linear1.parametrizations['weight'].original - original_weights['linear1.weight'])))\n",
    "\n",
    "# Then try the assertion\n",
    "assert torch.all(net.linear1.parametrizations['weight'].original == original_weights['linear1.weight'])"
   ]
  },
  {
   "cell_type": "markdown",
   "metadata": {},
   "source": [
    "- Test the network with LoRA, enabled (digit 9 should be classified better)"
   ]
  },
  {
   "cell_type": "code",
   "execution_count": 16,
   "metadata": {},
   "outputs": [
    {
     "name": "stderr",
     "output_type": "stream",
     "text": [
      "Testing: 100%|██████████| 1000/1000 [00:09<00:00, 100.38it/s]"
     ]
    },
    {
     "name": "stdout",
     "output_type": "stream",
     "text": [
      "Accuracy: 0.943\n",
      "Wrong counts for the digit 0: 14\n",
      "Wrong counts for the digit 1: 22\n",
      "Wrong counts for the digit 2: 58\n",
      "Wrong counts for the digit 3: 109\n",
      "Wrong counts for the digit 4: 98\n",
      "Wrong counts for the digit 5: 50\n",
      "Wrong counts for the digit 6: 88\n",
      "Wrong counts for the digit 7: 78\n",
      "Wrong counts for the digit 8: 37\n",
      "Wrong counts for the digit 9: 14\n"
     ]
    },
    {
     "name": "stderr",
     "output_type": "stream",
     "text": [
      "\n"
     ]
    }
   ],
   "source": [
    "# Test with LoRA enabled\n",
    "enable_disable_lora(enabled=True)\n",
    "test()"
   ]
  },
  {
   "cell_type": "markdown",
   "metadata": {},
   "source": [
    "- Test network with LoRA disabled (the accuracy and error counts should be same as the original netwowrk)"
   ]
  },
  {
   "cell_type": "code",
   "execution_count": 17,
   "metadata": {},
   "outputs": [
    {
     "name": "stderr",
     "output_type": "stream",
     "text": [
      "Testing: 100%|██████████| 1000/1000 [00:05<00:00, 193.03it/s]"
     ]
    },
    {
     "name": "stdout",
     "output_type": "stream",
     "text": [
      "Accuracy: 0.961\n",
      "Wrong counts for the digit 0: 10\n",
      "Wrong counts for the digit 1: 18\n",
      "Wrong counts for the digit 2: 41\n",
      "Wrong counts for the digit 3: 83\n",
      "Wrong counts for the digit 4: 28\n",
      "Wrong counts for the digit 5: 23\n",
      "Wrong counts for the digit 6: 60\n",
      "Wrong counts for the digit 7: 34\n",
      "Wrong counts for the digit 8: 17\n",
      "Wrong counts for the digit 9: 79\n"
     ]
    },
    {
     "name": "stderr",
     "output_type": "stream",
     "text": [
      "\n"
     ]
    }
   ],
   "source": [
    "# Test without LORA\n",
    "enable_disable_lora(enabled=False)\n",
    "test()"
   ]
  }
 ],
 "metadata": {
  "kernelspec": {
   "display_name": "torch",
   "language": "python",
   "name": "python3"
  },
  "language_info": {
   "codemirror_mode": {
    "name": "ipython",
    "version": 3
   },
   "file_extension": ".py",
   "mimetype": "text/x-python",
   "name": "python",
   "nbconvert_exporter": "python",
   "pygments_lexer": "ipython3",
   "version": "3.10.14"
  }
 },
 "nbformat": 4,
 "nbformat_minor": 2
}
